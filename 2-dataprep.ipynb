{
 "cells": [
  {
   "cell_type": "markdown",
   "id": "e669bf17",
   "metadata": {},
   "source": [
    "# 2. Data Preparation\n",
    "\n",
    "a. Handle missing or erroneous data. <br>\n",
    "b. Encode categorical variables appropriately. <br>\n",
    "c. Normalize or standardize features as required. <br>\n",
    "d. Split the data into training and testing sets to evaluate model performance. <br>"
   ]
  },
  {
   "cell_type": "markdown",
   "id": "993831ca",
   "metadata": {},
   "source": [
    "#### Importing the relevant modules"
   ]
  },
  {
   "cell_type": "code",
   "execution_count": 1,
   "id": "aa2e813a",
   "metadata": {},
   "outputs": [],
   "source": [
    "import pandas as pd\n",
    "import numpy as np\n",
    "import matplotlib.pyplot as plt\n",
    "import seaborn as sns\n",
    "from pathlib import Path"
   ]
  },
  {
   "cell_type": "markdown",
   "id": "3f3f900c",
   "metadata": {},
   "source": [
    "#### 2a. Handle missing or erroneous data. <br>"
   ]
  },
  {
   "cell_type": "code",
   "execution_count": null,
   "id": "4719e7fe",
   "metadata": {},
   "outputs": [
    {
     "name": "stdout",
     "output_type": "stream",
     "text": [
      "Original shape: (20501, 15)\n",
      "Full rows shape: (9531, 15)\n"
     ]
    }
   ],
   "source": [
    "csv_path = Path(\"dataset.csv\")\n",
    "df = pd.read_csv(csv_path)\n",
    "\n",
    "# Total number of rows in the dataset with all the fields filled - No missing values\n",
    "df_full = df.dropna()\n",
    "\n",
    "print(\"Original shape:\", df.shape)\n",
    "print(\"Full rows shape:\", df_full.shape)"
   ]
  },
  {
   "cell_type": "code",
   "execution_count": null,
   "id": "280bccde",
   "metadata": {},
   "outputs": [
    {
     "data": {
      "text/html": [
       "<div>\n",
       "<style scoped>\n",
       "    .dataframe tbody tr th:only-of-type {\n",
       "        vertical-align: middle;\n",
       "    }\n",
       "\n",
       "    .dataframe tbody tr th {\n",
       "        vertical-align: top;\n",
       "    }\n",
       "\n",
       "    .dataframe thead th {\n",
       "        text-align: right;\n",
       "    }\n",
       "</style>\n",
       "<table border=\"1\" class=\"dataframe\">\n",
       "  <thead>\n",
       "    <tr style=\"text-align: right;\">\n",
       "      <th></th>\n",
       "      <th>Time_step</th>\n",
       "    </tr>\n",
       "  </thead>\n",
       "  <tbody>\n",
       "    <tr>\n",
       "      <th>0</th>\n",
       "      <td>15/03/2022 10:24</td>\n",
       "    </tr>\n",
       "    <tr>\n",
       "      <th>1</th>\n",
       "      <td>15/03/2022 10:24</td>\n",
       "    </tr>\n",
       "    <tr>\n",
       "      <th>2</th>\n",
       "      <td>15/03/2022 10:24</td>\n",
       "    </tr>\n",
       "    <tr>\n",
       "      <th>3</th>\n",
       "      <td>15/03/2022 10:24</td>\n",
       "    </tr>\n",
       "    <tr>\n",
       "      <th>4</th>\n",
       "      <td>15/03/2022 10:24</td>\n",
       "    </tr>\n",
       "    <tr>\n",
       "      <th>...</th>\n",
       "      <td>...</td>\n",
       "    </tr>\n",
       "    <tr>\n",
       "      <th>20496</th>\n",
       "      <td>17/06/2024 11:54</td>\n",
       "    </tr>\n",
       "    <tr>\n",
       "      <th>20497</th>\n",
       "      <td>17/06/2024 12:04</td>\n",
       "    </tr>\n",
       "    <tr>\n",
       "      <th>20498</th>\n",
       "      <td>17/06/2024 12:14</td>\n",
       "    </tr>\n",
       "    <tr>\n",
       "      <th>20499</th>\n",
       "      <td></td>\n",
       "    </tr>\n",
       "    <tr>\n",
       "      <th>20500</th>\n",
       "      <td></td>\n",
       "    </tr>\n",
       "  </tbody>\n",
       "</table>\n",
       "<p>20501 rows × 1 columns</p>\n",
       "</div>"
      ],
      "text/plain": [
       "              Time_step\n",
       "0      15/03/2022 10:24\n",
       "1      15/03/2022 10:24\n",
       "2      15/03/2022 10:24\n",
       "3      15/03/2022 10:24\n",
       "4      15/03/2022 10:24\n",
       "...                 ...\n",
       "20496  17/06/2024 11:54\n",
       "20497  17/06/2024 12:04\n",
       "20498  17/06/2024 12:14\n",
       "20499                  \n",
       "20500                  \n",
       "\n",
       "[20501 rows x 1 columns]"
      ]
     },
     "execution_count": 3,
     "metadata": {},
     "output_type": "execute_result"
    }
   ],
   "source": [
    "# Total number of columns of the dataset having No row as missing\n",
    "df.dropna(axis=1)"
   ]
  }
 ],
 "metadata": {
  "kernelspec": {
   "display_name": "snap",
   "language": "python",
   "name": "python3"
  },
  "language_info": {
   "codemirror_mode": {
    "name": "ipython",
    "version": 3
   },
   "file_extension": ".py",
   "mimetype": "text/x-python",
   "name": "python",
   "nbconvert_exporter": "python",
   "pygments_lexer": "ipython3",
   "version": "3.11.13"
  }
 },
 "nbformat": 4,
 "nbformat_minor": 5
}
